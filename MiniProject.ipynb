{
 "cells": [
  {
   "cell_type": "code",
   "execution_count": null,
   "id": "7a7b5be3-ffd9-444d-ad70-371fbdcbb53f",
   "metadata": {},
   "outputs": [],
   "source": [
    "#listing ovies acted by tom cruise : Title, rating, character"
   ]
  },
  {
   "cell_type": "code",
   "execution_count": null,
   "id": "2901590d-f131-45d0-8e57-ebe4ded09314",
   "metadata": {},
   "outputs": [],
   "source": [
    "## Website https://www.imdb.com/name/nm0000129/"
   ]
  },
  {
   "cell_type": "code",
   "execution_count": 7,
   "id": "044d3047-8793-451d-bc3d-938f59c7c7cb",
   "metadata": {
    "tags": []
   },
   "outputs": [],
   "source": [
    "import requests"
   ]
  },
  {
   "cell_type": "code",
   "execution_count": 8,
   "id": "65ec28b2-632b-4df2-8084-24cd39ef2960",
   "metadata": {
    "tags": []
   },
   "outputs": [],
   "source": [
    "#define the URL name\n",
    "actor_url = 'https://www.imdb.com/name/nm0000129/'"
   ]
  },
  {
   "cell_type": "code",
   "execution_count": 9,
   "id": "ee072592-d3e5-44f5-9465-d0b164ec819b",
   "metadata": {
    "tags": []
   },
   "outputs": [],
   "source": [
    "#adding the user-agent, because the \"GET\" requests getting rejected with code 403. Access denied from a non-web browser\n",
    "#user-agent can be obtained from the web-page->F12->select the header->scroll tot he bottom to get the user-agent\n",
    "headers = {'User-Agent': 'Mozilla/5.0 (Windows NT 10.0; Win64; x64) AppleWebKit/537.36 (KHTML, like Gecko) Chrome/121.0.0.0 Safari/537.36'}"
   ]
  },
  {
   "cell_type": "code",
   "execution_count": 10,
   "id": "85bbf063-965f-414c-a279-b338f4f93452",
   "metadata": {
    "tags": []
   },
   "outputs": [],
   "source": [
    "#fetching the url\n",
    "#getting a response from the URL\n",
    "response = requests.get(actor_url,headers=headers)"
   ]
  },
  {
   "cell_type": "code",
   "execution_count": 11,
   "id": "edc4282a-7f91-44e7-bb2f-b2dae831be95",
   "metadata": {},
   "outputs": [
    {
     "data": {
      "text/plain": [
       "200"
      ]
     },
     "execution_count": 11,
     "metadata": {},
     "output_type": "execute_result"
    }
   ],
   "source": [
    "#testing the success of the url\n",
    "# http status codes\n",
    "    ##Informational response(100-199)\n",
    "    ##Successful responses (200-299)\n",
    "    ##Redirects(300-399)\n",
    "    ##Client errors(400-499)\n",
    "    ##Server errors(500-599)\n",
    "response.status_code"
   ]
  },
  {
   "cell_type": "code",
   "execution_count": 12,
   "id": "5a60aed7-0c6a-4f86-b0af-c46badccea81",
   "metadata": {},
   "outputs": [
    {
     "data": {
      "text/plain": [
       "1231212"
      ]
     },
     "execution_count": 12,
     "metadata": {},
     "output_type": "execute_result"
    }
   ],
   "source": [
    "#identifying number of characters in the URL to assess load\n",
    "#output=1.2mill characters \n",
    "len(response.text)"
   ]
  },
  {
   "cell_type": "code",
   "execution_count": 13,
   "id": "6fe5cce3-0426-4805-af88-cb7ff205ec5c",
   "metadata": {
    "tags": []
   },
   "outputs": [],
   "source": [
    "#download the page locally in HTML to identify contents instead of printing in python\n",
    "#defining the page into text format(html)\n",
    "\n",
    "page_contents = response.text"
   ]
  },
  {
   "cell_type": "code",
   "execution_count": 14,
   "id": "a96f17e2-c66f-48a4-89da-574eb51e998c",
   "metadata": {
    "tags": []
   },
   "outputs": [],
   "source": [
    "#saving the file in HTML format locally\n",
    "#reasons to save this in html format is to be able to identify required informations for scraping purpose.\n",
    "#encoding type UTF\n",
    "#have to add the encoding type.In mac(python 3) works perfectly with just open without encoding, but in windows(w10, python3) is not an option. Just works in that way, with encoding=\"utf-8\" param.\n",
    "\n",
    "with open('TomCruise.html','w', encoding=\"utf-8\") as f:\n",
    "    f.write(page_contents)"
   ]
  },
  {
   "cell_type": "raw",
   "id": "645a2b24-b9a1-48f9-88a2-4e131b9f5509",
   "metadata": {},
   "source": [
    "using BEAUTIFUL SOUP to extract needed information"
   ]
  },
  {
   "cell_type": "code",
   "execution_count": 15,
   "id": "1f07880a-4a60-46e9-85ee-08e3cb12a58f",
   "metadata": {
    "tags": []
   },
   "outputs": [],
   "source": [
    "#installing beautiful soup - which we already have during class, but jsut for the sake of the show\n",
    "!pip install beautifulsoup4 --upgrade --quiet"
   ]
  },
  {
   "cell_type": "code",
   "execution_count": 16,
   "id": "988bb9a9-1adb-46e1-9523-afb7eef5fd13",
   "metadata": {
    "tags": []
   },
   "outputs": [
    {
     "name": "stdout",
     "output_type": "stream",
     "text": [
      "<module 'bs4' from 'C:\\\\Users\\\\Amin_Yasin\\\\AppData\\\\Local\\\\anaconda3\\\\Lib\\\\site-packages\\\\bs4\\\\__init__.py'>\n"
     ]
    }
   ],
   "source": [
    "#verifying BS installation\n",
    "import bs4\n",
    "print (bs4)"
   ]
  },
  {
   "cell_type": "code",
   "execution_count": 17,
   "id": "fe3dbaac-95b9-4596-9b49-fe762200f239",
   "metadata": {},
   "outputs": [],
   "source": [
    "from bs4 import BeautifulSoup"
   ]
  },
  {
   "cell_type": "code",
   "execution_count": 37,
   "id": "3b0fa041-180f-40a4-bf3e-f284c4cd5c6d",
   "metadata": {
    "tags": []
   },
   "outputs": [],
   "source": [
    "#parsing HTML from BS because the webpage is in HTML format\n",
    "doc = BeautifulSoup(page_contents,'html.parser')"
   ]
  },
  {
   "cell_type": "code",
   "execution_count": null,
   "id": "00467e8a-55ba-4a95-bd45-e312092d1d8a",
   "metadata": {
    "tags": []
   },
   "outputs": [],
   "source": [
    "#printing the parsed HTML doc\n",
    "doc"
   ]
  },
  {
   "cell_type": "code",
   "execution_count": 43,
   "id": "7544d66c-c1b2-4451-8485-0574a47c7124",
   "metadata": {
    "tags": []
   },
   "outputs": [],
   "source": [
    "selection_class = \"ipc-metadata-list-summary-item__t\"\n",
    "a_tags = doc.find_all('a',{'class':selection_class})"
   ]
  },
  {
   "cell_type": "code",
   "execution_count": 44,
   "id": "f2e0ef98-5d74-407d-83aa-a705d11e0f81",
   "metadata": {
    "tags": []
   },
   "outputs": [
    {
     "data": {
      "text/plain": [
       "37"
      ]
     },
     "execution_count": 44,
     "metadata": {},
     "output_type": "execute_result"
    }
   ],
   "source": [
    "len(a_tags)"
   ]
  },
  {
   "cell_type": "code",
   "execution_count": 47,
   "id": "ed396243-977b-473a-9492-293a002bb70e",
   "metadata": {
    "tags": []
   },
   "outputs": [
    {
     "data": {
      "text/plain": [
       "[<a aria-disabled=\"false\" class=\"ipc-metadata-list-summary-item__t\" href=\"/title/tt9603208/?ref_=nm_flmg_unrel_1_act\" role=\"button\" tabindex=\"0\">Mission: Impossible - Dead Reckoning Part Two</a>,\n",
       " <a aria-disabled=\"false\" class=\"ipc-metadata-list-summary-item__t\" href=\"/title/tt15073568/?ref_=nm_flmg_unrel_2_act\" role=\"button\" tabindex=\"0\">Untitled Tom Cruise/SpaceX Project</a>,\n",
       " <a aria-disabled=\"false\" class=\"ipc-metadata-list-summary-item__t\" href=\"/title/tt5617712/?ref_=nm_flmg_unrel_3_act\" role=\"button\" tabindex=\"0\">Live Die Repeat and Repeat</a>,\n",
       " <a aria-disabled=\"false\" class=\"ipc-metadata-list-summary-item__t\" href=\"/title/tt9603212/?ref_=nm_flmg_t_1_act\" role=\"button\" tabindex=\"0\">Mission: Impossible - Dead Reckoning Part One</a>,\n",
       " <a aria-disabled=\"false\" class=\"ipc-metadata-list-summary-item__t\" href=\"/title/tt1745960/?ref_=nm_flmg_t_2_act\" role=\"button\" tabindex=\"0\">Top Gun: Maverick</a>,\n",
       " <a aria-disabled=\"false\" class=\"ipc-metadata-list-summary-item__t\" href=\"/title/tt13640382/?ref_=nm_flmg_t_3_act\" role=\"button\" tabindex=\"0\">Au Revoir, Chris Hemsworth</a>,\n",
       " <a aria-disabled=\"false\" class=\"ipc-metadata-list-summary-item__t\" href=\"/title/tt4912910/?ref_=nm_flmg_t_4_act\" role=\"button\" tabindex=\"0\">Mission: Impossible - Fallout</a>,\n",
       " <a aria-disabled=\"false\" class=\"ipc-metadata-list-summary-item__t\" href=\"/title/tt3532216/?ref_=nm_flmg_t_5_act\" role=\"button\" tabindex=\"0\">American Made</a>,\n",
       " <a aria-disabled=\"false\" class=\"ipc-metadata-list-summary-item__t\" href=\"/title/tt2345759/?ref_=nm_flmg_t_6_act\" role=\"button\" tabindex=\"0\">The Mummy</a>,\n",
       " <a aria-disabled=\"false\" class=\"ipc-metadata-list-summary-item__t\" href=\"/title/tt3393786/?ref_=nm_flmg_t_7_act\" role=\"button\" tabindex=\"0\">Jack Reacher: Never Go Back</a>,\n",
       " <a aria-disabled=\"false\" class=\"ipc-metadata-list-summary-item__t\" href=\"/title/tt2381249/?ref_=nm_flmg_t_8_act\" role=\"button\" tabindex=\"0\">Mission: Impossible - Rogue Nation</a>,\n",
       " <a aria-disabled=\"false\" class=\"ipc-metadata-list-summary-item__t\" href=\"/title/tt1631867/?ref_=nm_flmg_t_9_act\" role=\"button\" tabindex=\"0\">Live Die Repeat: Edge of Tomorrow</a>,\n",
       " <a aria-disabled=\"false\" class=\"ipc-metadata-list-summary-item__t\" href=\"/title/tt1483013/?ref_=nm_flmg_t_10_act\" role=\"button\" tabindex=\"0\">Oblivion</a>,\n",
       " <a aria-disabled=\"false\" class=\"ipc-metadata-list-summary-item__t\" href=\"/title/tt0790724/?ref_=nm_flmg_t_11_act\" role=\"button\" tabindex=\"0\">Jack Reacher</a>,\n",
       " <a aria-disabled=\"false\" class=\"ipc-metadata-list-summary-item__t\" href=\"/title/tt1336608/?ref_=nm_flmg_t_12_act\" role=\"button\" tabindex=\"0\">Rock of Ages</a>,\n",
       " <a aria-disabled=\"false\" class=\"ipc-metadata-list-summary-item__t\" href=\"/title/tt1229238/?ref_=nm_flmg_t_13_act\" role=\"button\" tabindex=\"0\">Mission: Impossible - Ghost Protocol</a>,\n",
       " <a aria-disabled=\"false\" class=\"ipc-metadata-list-summary-item__t\" href=\"/title/tt1013743/?ref_=nm_flmg_t_14_act\" role=\"button\" tabindex=\"0\">Knight and Day</a>,\n",
       " <a aria-disabled=\"false\" class=\"ipc-metadata-list-summary-item__t\" href=\"/title/tt0985699/?ref_=nm_flmg_t_15_act\" role=\"button\" tabindex=\"0\">Valkyrie</a>,\n",
       " <a aria-disabled=\"false\" class=\"ipc-metadata-list-summary-item__t\" href=\"/title/tt9603208/?ref_=nm_flmg_unrel_1_prd\" role=\"button\" tabindex=\"0\">Mission: Impossible - Dead Reckoning Part Two</a>,\n",
       " <a aria-disabled=\"false\" class=\"ipc-metadata-list-summary-item__t\" href=\"/title/tt1123441/?ref_=nm_flmg_unrel_2_prd\" role=\"button\" tabindex=\"0\">Luna Park</a>,\n",
       " <a aria-disabled=\"false\" class=\"ipc-metadata-list-summary-item__t\" href=\"/title/tt15073568/?ref_=nm_flmg_unrel_3_prd\" role=\"button\" tabindex=\"0\">Untitled Tom Cruise/SpaceX Project</a>,\n",
       " <a aria-disabled=\"false\" class=\"ipc-metadata-list-summary-item__t\" href=\"/title/tt9603212/?ref_=nm_flmg_t_1_prd\" role=\"button\" tabindex=\"0\">Mission: Impossible - Dead Reckoning Part One</a>,\n",
       " <a aria-disabled=\"false\" class=\"ipc-metadata-list-summary-item__t\" href=\"/title/tt1745960/?ref_=nm_flmg_t_2_prd\" role=\"button\" tabindex=\"0\">Top Gun: Maverick</a>,\n",
       " <a aria-disabled=\"false\" class=\"ipc-metadata-list-summary-item__t\" href=\"/title/tt4912910/?ref_=nm_flmg_t_3_prd\" role=\"button\" tabindex=\"0\">Mission: Impossible - Fallout</a>,\n",
       " <a aria-disabled=\"false\" class=\"ipc-metadata-list-summary-item__t\" href=\"/title/tt3393786/?ref_=nm_flmg_t_4_prd\" role=\"button\" tabindex=\"0\">Jack Reacher: Never Go Back</a>,\n",
       " <a aria-disabled=\"false\" class=\"ipc-metadata-list-summary-item__t\" href=\"/title/tt2381249/?ref_=nm_flmg_t_5_prd\" role=\"button\" tabindex=\"0\">Mission: Impossible - Rogue Nation</a>,\n",
       " <a aria-disabled=\"false\" class=\"ipc-metadata-list-summary-item__t\" href=\"/title/tt0790724/?ref_=nm_flmg_t_6_prd\" role=\"button\" tabindex=\"0\">Jack Reacher</a>,\n",
       " <a aria-disabled=\"false\" class=\"ipc-metadata-list-summary-item__t\" href=\"/title/tt1229238/?ref_=nm_flmg_t_7_prd\" role=\"button\" tabindex=\"0\">Mission: Impossible - Ghost Protocol</a>,\n",
       " <a aria-disabled=\"false\" class=\"ipc-metadata-list-summary-item__t\" href=\"/title/tt0317919/?ref_=nm_flmg_t_8_prd\" role=\"button\" tabindex=\"0\">Mission: Impossible III</a>,\n",
       " <a aria-disabled=\"false\" class=\"ipc-metadata-list-summary-item__t\" href=\"/title/tt0384814/?ref_=nm_flmg_t_9_prd\" role=\"button\" tabindex=\"0\">Ask the Dust</a>,\n",
       " <a aria-disabled=\"false\" class=\"ipc-metadata-list-summary-item__t\" href=\"/title/tt0368709/?ref_=nm_flmg_t_10_prd\" role=\"button\" tabindex=\"0\">Elizabethtown</a>,\n",
       " <a aria-disabled=\"false\" class=\"ipc-metadata-list-summary-item__t\" href=\"/title/tt0324127/?ref_=nm_flmg_t_11_prd\" role=\"button\" tabindex=\"0\">Suspect Zero</a>,\n",
       " <a aria-disabled=\"false\" class=\"ipc-metadata-list-summary-item__t\" href=\"/title/tt0325710/?ref_=nm_flmg_t_12_prd\" role=\"button\" tabindex=\"0\">The Last Samurai</a>,\n",
       " <a aria-disabled=\"false\" class=\"ipc-metadata-list-summary-item__t\" href=\"/title/tt0323944/?ref_=nm_flmg_t_13_prd\" role=\"button\" tabindex=\"0\">Shattered Glass</a>,\n",
       " <a aria-disabled=\"false\" class=\"ipc-metadata-list-summary-item__t\" href=\"/title/tt0272207/?ref_=nm_flmg_t_14_prd\" role=\"button\" tabindex=\"0\">Narc</a>,\n",
       " <a aria-disabled=\"false\" class=\"ipc-metadata-list-summary-item__t\" href=\"/title/tt0259711/?ref_=nm_flmg_t_15_prd\" role=\"button\" tabindex=\"0\">Vanilla Sky</a>,\n",
       " <a aria-disabled=\"false\" class=\"ipc-metadata-list-summary-item__t\" href=\"/title/tt0105994/?ref_=nm_flmg_t_1_dr\" role=\"button\" tabindex=\"0\">Fallen Angels</a>]"
      ]
     },
     "execution_count": 47,
     "metadata": {},
     "output_type": "execute_result"
    }
   ],
   "source": [
    "a_tags"
   ]
  },
  {
   "cell_type": "code",
   "execution_count": null,
   "id": "43821aa2-87fb-4c01-8815-e1140642e971",
   "metadata": {},
   "outputs": [],
   "source": []
  }
 ],
 "metadata": {
  "kernelspec": {
   "display_name": "Python 3 (ipykernel)",
   "language": "python",
   "name": "python3"
  },
  "language_info": {
   "codemirror_mode": {
    "name": "ipython",
    "version": 3
   },
   "file_extension": ".py",
   "mimetype": "text/x-python",
   "name": "python",
   "nbconvert_exporter": "python",
   "pygments_lexer": "ipython3",
   "version": "3.11.5"
  }
 },
 "nbformat": 4,
 "nbformat_minor": 5
}
